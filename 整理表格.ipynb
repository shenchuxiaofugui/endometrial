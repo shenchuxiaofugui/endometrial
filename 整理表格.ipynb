{
 "cells": [
  {
   "cell_type": "code",
   "execution_count": 1,
   "metadata": {},
   "outputs": [
    {
     "data": {
      "text/html": [
       "<div>\n",
       "<style scoped>\n",
       "    .dataframe tbody tr th:only-of-type {\n",
       "        vertical-align: middle;\n",
       "    }\n",
       "\n",
       "    .dataframe tbody tr th {\n",
       "        vertical-align: top;\n",
       "    }\n",
       "\n",
       "    .dataframe thead th {\n",
       "        text-align: right;\n",
       "    }\n",
       "</style>\n",
       "<table border=\"1\" class=\"dataframe\">\n",
       "  <thead>\n",
       "    <tr style=\"text-align: right;\">\n",
       "      <th></th>\n",
       "      <th>CaseName</th>\n",
       "      <th>LNM</th>\n",
       "      <th>出院日期</th>\n",
       "      <th>发病年龄</th>\n",
       "      <th>身高</th>\n",
       "      <th>体重</th>\n",
       "      <th>病理类型</th>\n",
       "      <th>LVSI</th>\n",
       "      <th>BMI</th>\n",
       "      <th>病理</th>\n",
       "      <th>最大径</th>\n",
       "      <th>分化程度</th>\n",
       "      <th>肌层浸润</th>\n",
       "      <th>FIGO</th>\n",
       "      <th>浸润宫颈</th>\n",
       "      <th>盆腔淋巴</th>\n",
       "      <th>转移腹主动脉淋巴结旁数目</th>\n",
       "      <th>绝经</th>\n",
       "    </tr>\n",
       "  </thead>\n",
       "  <tbody>\n",
       "    <tr>\n",
       "      <th>0</th>\n",
       "      <td>y00184782</td>\n",
       "      <td>1</td>\n",
       "      <td>20200512.0</td>\n",
       "      <td>66.0</td>\n",
       "      <td>NaN</td>\n",
       "      <td>NaN</td>\n",
       "      <td>0</td>\n",
       "      <td>0</td>\n",
       "      <td>NaN</td>\n",
       "      <td>999999</td>\n",
       "      <td>40.0</td>\n",
       "      <td>宫底及双侧宫角</td>\n",
       "      <td>0</td>\n",
       "      <td>NaN</td>\n",
       "      <td>3</td>\n",
       "      <td>0.0</td>\n",
       "      <td>无</td>\n",
       "      <td>1</td>\n",
       "    </tr>\n",
       "    <tr>\n",
       "      <th>1</th>\n",
       "      <td>y00216636</td>\n",
       "      <td>1</td>\n",
       "      <td>20200713.0</td>\n",
       "      <td>56.0</td>\n",
       "      <td>165.0</td>\n",
       "      <td>75.0</td>\n",
       "      <td>0</td>\n",
       "      <td>1</td>\n",
       "      <td>27.548209</td>\n",
       "      <td>999999</td>\n",
       "      <td>59.0</td>\n",
       "      <td>宫腔弥漫</td>\n",
       "      <td>2</td>\n",
       "      <td>NaN</td>\n",
       "      <td>3</td>\n",
       "      <td>0.0</td>\n",
       "      <td>双侧盆腔、左侧前哨、左侧髂总</td>\n",
       "      <td>0</td>\n",
       "    </tr>\n",
       "    <tr>\n",
       "      <th>2</th>\n",
       "      <td>y00197978</td>\n",
       "      <td>1</td>\n",
       "      <td>20200610.0</td>\n",
       "      <td>67.0</td>\n",
       "      <td>162.0</td>\n",
       "      <td>50.0</td>\n",
       "      <td>0</td>\n",
       "      <td>1</td>\n",
       "      <td>19.051974</td>\n",
       "      <td>999999</td>\n",
       "      <td>63.0</td>\n",
       "      <td>宫腔</td>\n",
       "      <td>0</td>\n",
       "      <td>NaN</td>\n",
       "      <td>999999</td>\n",
       "      <td>0.0</td>\n",
       "      <td>双侧髂总、左侧盆腔、左侧前哨淋巴结、右侧盆腔肿大淋巴结</td>\n",
       "      <td>1</td>\n",
       "    </tr>\n",
       "    <tr>\n",
       "      <th>3</th>\n",
       "      <td>y00155653</td>\n",
       "      <td>1</td>\n",
       "      <td>20191224.0</td>\n",
       "      <td>36.0</td>\n",
       "      <td>NaN</td>\n",
       "      <td>NaN</td>\n",
       "      <td>0</td>\n",
       "      <td>1</td>\n",
       "      <td>NaN</td>\n",
       "      <td>999999</td>\n",
       "      <td>55.0</td>\n",
       "      <td>左侧宫角及宫底部深肌层</td>\n",
       "      <td>0</td>\n",
       "      <td>NaN</td>\n",
       "      <td>3</td>\n",
       "      <td>0.0</td>\n",
       "      <td>左侧盆腔、右侧腹股沟</td>\n",
       "      <td>0</td>\n",
       "    </tr>\n",
       "    <tr>\n",
       "      <th>4</th>\n",
       "      <td>y00198877</td>\n",
       "      <td>1</td>\n",
       "      <td>20200701.0</td>\n",
       "      <td>60.0</td>\n",
       "      <td>NaN</td>\n",
       "      <td>NaN</td>\n",
       "      <td>0</td>\n",
       "      <td>1</td>\n",
       "      <td>NaN</td>\n",
       "      <td>999999</td>\n",
       "      <td>33.0</td>\n",
       "      <td>宫腔</td>\n",
       "      <td>1</td>\n",
       "      <td>NaN</td>\n",
       "      <td>999999</td>\n",
       "      <td>0.0</td>\n",
       "      <td>右侧盆腔</td>\n",
       "      <td>1</td>\n",
       "    </tr>\n",
       "  </tbody>\n",
       "</table>\n",
       "</div>"
      ],
      "text/plain": [
       "    CaseName  LNM        出院日期  发病年龄     身高    体重  病理类型  LVSI        BMI  \\\n",
       "0  y00184782    1  20200512.0  66.0    NaN   NaN     0     0        NaN   \n",
       "1  y00216636    1  20200713.0  56.0  165.0  75.0     0     1  27.548209   \n",
       "2  y00197978    1  20200610.0  67.0  162.0  50.0     0     1  19.051974   \n",
       "3  y00155653    1  20191224.0  36.0    NaN   NaN     0     1        NaN   \n",
       "4  y00198877    1  20200701.0  60.0    NaN   NaN     0     1        NaN   \n",
       "\n",
       "       病理   最大径         分化程度  肌层浸润  FIGO    浸润宫颈  盆腔淋巴  \\\n",
       "0  999999  40.0      宫底及双侧宫角     0   NaN       3   0.0   \n",
       "1  999999  59.0         宫腔弥漫     2   NaN       3   0.0   \n",
       "2  999999  63.0           宫腔     0   NaN  999999   0.0   \n",
       "3  999999  55.0  左侧宫角及宫底部深肌层     0   NaN       3   0.0   \n",
       "4  999999  33.0           宫腔     1   NaN  999999   0.0   \n",
       "\n",
       "                  转移腹主动脉淋巴结旁数目  绝经  \n",
       "0                            无   1  \n",
       "1               双侧盆腔、左侧前哨、左侧髂总   0  \n",
       "2  双侧髂总、左侧盆腔、左侧前哨淋巴结、右侧盆腔肿大淋巴结   1  \n",
       "3                   左侧盆腔、右侧腹股沟   0  \n",
       "4                         右侧盆腔   1  "
      ]
     },
     "execution_count": 1,
     "metadata": {},
     "output_type": "execute_result"
    }
   ],
   "source": [
    "import pandas as pd\n",
    "root = \"/homes/syli/dataset/EC_all/all_frame/new\"\n",
    "info_df = pd.read_csv(root+\"/total_info.csv\", encoding= 'gb2312')\n",
    "info_df[\"CaseName\"] = info_df[\"CaseName\"].astype(dtype=\"str\")\n",
    "info_df.head()"
   ]
  },
  {
   "cell_type": "code",
   "execution_count": 2,
   "metadata": {},
   "outputs": [
    {
     "name": "stdout",
     "output_type": "stream",
     "text": [
      "847\n"
     ]
    },
    {
     "data": {
      "text/html": [
       "<div>\n",
       "<style scoped>\n",
       "    .dataframe tbody tr th:only-of-type {\n",
       "        vertical-align: middle;\n",
       "    }\n",
       "\n",
       "    .dataframe tbody tr th {\n",
       "        vertical-align: top;\n",
       "    }\n",
       "\n",
       "    .dataframe thead th {\n",
       "        text-align: right;\n",
       "    }\n",
       "</style>\n",
       "<table border=\"1\" class=\"dataframe\">\n",
       "  <thead>\n",
       "    <tr style=\"text-align: right;\">\n",
       "      <th></th>\n",
       "      <th>CaseName</th>\n",
       "      <th>术后病理</th>\n",
       "      <th>病案号</th>\n",
       "      <th>姓名</th>\n",
       "      <th>门诊号码</th>\n",
       "    </tr>\n",
       "  </thead>\n",
       "  <tbody>\n",
       "    <tr>\n",
       "      <th>0</th>\n",
       "      <td>5436621</td>\n",
       "      <td>一、全子宫：1.子宫内膜复杂不典型增生过长，局部内膜样腺癌Ⅰ级，癌局限于子宫粘膜内，向下未达...</td>\n",
       "      <td>719792</td>\n",
       "      <td>陈海花</td>\n",
       "      <td>NaN</td>\n",
       "    </tr>\n",
       "    <tr>\n",
       "      <th>1</th>\n",
       "      <td>5634885</td>\n",
       "      <td>一、全子宫：1.子宫内膜样癌Ⅰ级，大小3.5×2.5cm，浸润子宫浅肌层，向下未累及宫颈。_...</td>\n",
       "      <td>1010226</td>\n",
       "      <td>丛美娟</td>\n",
       "      <td>NaN</td>\n",
       "    </tr>\n",
       "    <tr>\n",
       "      <th>2</th>\n",
       "      <td>5618570</td>\n",
       "      <td>一、全子宫：1.子宫内膜样腺癌Ⅰ级,浸润子宫浅肌层，下缘累及宫颈管粘膜腺体。2.慢性宫颈炎。...</td>\n",
       "      <td>1006869</td>\n",
       "      <td>宋金萍</td>\n",
       "      <td>NaN</td>\n",
       "    </tr>\n",
       "    <tr>\n",
       "      <th>3</th>\n",
       "      <td>5599967</td>\n",
       "      <td>一、全子宫：1.子宫内膜样腺癌，I级，浸润子宫浅肌层，向下未累及宫颈内口。周围子宫内膜复杂不...</td>\n",
       "      <td>1002846</td>\n",
       "      <td>朱秀芳</td>\n",
       "      <td>NaN</td>\n",
       "    </tr>\n",
       "    <tr>\n",
       "      <th>4</th>\n",
       "      <td>5630892</td>\n",
       "      <td>一、全子宫：1.子宫内膜样癌Ⅱ级，病灶1.8×0.8cm，浸润浅肌层，下缘未达宫颈内口，周围...</td>\n",
       "      <td>1009348</td>\n",
       "      <td>李小微</td>\n",
       "      <td>NaN</td>\n",
       "    </tr>\n",
       "  </tbody>\n",
       "</table>\n",
       "</div>"
      ],
      "text/plain": [
       "  CaseName                                               术后病理      病案号   姓名  \\\n",
       "0  5436621  一、全子宫：1.子宫内膜复杂不典型增生过长，局部内膜样腺癌Ⅰ级，癌局限于子宫粘膜内，向下未达...   719792  陈海花   \n",
       "1  5634885  一、全子宫：1.子宫内膜样癌Ⅰ级，大小3.5×2.5cm，浸润子宫浅肌层，向下未累及宫颈。_...  1010226  丛美娟   \n",
       "2  5618570  一、全子宫：1.子宫内膜样腺癌Ⅰ级,浸润子宫浅肌层，下缘累及宫颈管粘膜腺体。2.慢性宫颈炎。...  1006869  宋金萍   \n",
       "3  5599967  一、全子宫：1.子宫内膜样腺癌，I级，浸润子宫浅肌层，向下未累及宫颈内口。周围子宫内膜复杂不...  1002846  朱秀芳   \n",
       "4  5630892  一、全子宫：1.子宫内膜样癌Ⅱ级，病灶1.8×0.8cm，浸润浅肌层，下缘未达宫颈内口，周围...  1009348  李小微   \n",
       "\n",
       "  门诊号码  \n",
       "0  NaN  \n",
       "1  NaN  \n",
       "2  NaN  \n",
       "3  NaN  \n",
       "4  NaN  "
      ]
     },
     "execution_count": 2,
     "metadata": {},
     "output_type": "execute_result"
    }
   ],
   "source": [
    "df1 = pd.read_excel(root+\"/2013-2018EC data patientsegmented.xlsx\")[[\"CaseName\", \"术后病理\", \"病案号\", \"姓名\"]]\n",
    "df2 = pd.read_excel(root+\"/lnm_positive_new.xlsx\")[[\"CaseName\", \"术后病理\", \"病案号\", \"姓名\", \"门诊号码\"]]\n",
    "df = pd.concat((df1, df2))\n",
    "df[\"CaseName\"] = df[\"CaseName\"].astype(dtype=\"str\")\n",
    "print(len(df))\n",
    "df.head()"
   ]
  },
  {
   "cell_type": "code",
   "execution_count": 3,
   "metadata": {},
   "outputs": [
    {
     "data": {
      "text/plain": [
       "567"
      ]
     },
     "execution_count": 3,
     "metadata": {},
     "output_type": "execute_result"
    }
   ],
   "source": [
    "new_df = pd.merge(df, info_df)\n",
    "new_df.drop_duplicates(subset=['CaseName'],keep='first',inplace=True)\n",
    "len(new_df)"
   ]
  },
  {
   "cell_type": "code",
   "execution_count": 12,
   "metadata": {},
   "outputs": [
    {
     "name": "stdout",
     "output_type": "stream",
     "text": [
      "5508549\n"
     ]
    }
   ],
   "source": [
    "set(info_df[\"CaseName\"].values).difference(set(new_df[\"CaseName\"]))\n",
    "for i,j in zip(info_df.groupby([\"CaseName\"]).size(), info_df.groupby([\"CaseName\"]).size().index):\n",
    "    if i == 2:\n",
    "        print(j)\n",
    "info_df.drop_duplicates(subset=['CaseName'],keep='first',inplace=True)\n",
    "# len(info_df)"
   ]
  },
  {
   "cell_type": "code",
   "execution_count": 5,
   "metadata": {},
   "outputs": [
    {
     "name": "stdout",
     "output_type": "stream",
     "text": [
      "99 314 154\n"
     ]
    },
    {
     "data": {
      "text/plain": [
       "567"
      ]
     },
     "execution_count": 5,
     "metadata": {},
     "output_type": "execute_result"
    }
   ],
   "source": [
    "import numpy as np\n",
    "lvsi = []\n",
    "for index, i in enumerate(new_df[\"术后病理\"].values):\n",
    "    if not isinstance(i, str):\n",
    "        lvsi.append(2)\n",
    "    elif (\"脉管内\" in i) and (\"癌栓\" in i):\n",
    "        lvsi.append(1)\n",
    "    else:\n",
    "        lvsi.append(0)\n",
    "\n",
    "print(lvsi.count(1), lvsi.count(0), lvsi.count(2))\n",
    "del new_df[\"LVSI\"]\n",
    "new_df[\"LVSI\"] = lvsi\n",
    "# new_df = new_df[new_df[\"LVSI\"] == 2]\n",
    "new_df.to_csv(root+\"/缺失.csv\", index=False, encoding=\"utf_8_sig\")\n",
    "len(new_df)\n"
   ]
  },
  {
   "cell_type": "code",
   "execution_count": 18,
   "metadata": {},
   "outputs": [],
   "source": [
    "queshi_df = new_df[new_df[\"LVSI\"] == 2]\n",
    "del queshi_df[\"LVSI\"]\n",
    "buchong1 = pd.read_excel(root+\"/缺失老住院号1.xlsx\")[[\"CaseName\", \"LVSI\"]]\n",
    "buchong2 = pd.read_excel(root+\"/缺失新住院号2.xlsx\")[[\"CaseName\", \"LVSI\"]]\n",
    "\n",
    "buchong1[\"CaseName\"] = buchong1[\"CaseName\"].astype(dtype=\"str\")\n",
    "buchong2[\"CaseName\"] = buchong2[\"CaseName\"].astype(dtype=\"str\")\n",
    "buchong = pd.concat((buchong1, buchong2))\n",
    "buchong.drop_duplicates(subset=['CaseName'],keep='first',inplace=True)\n",
    "queshi = pd.merge(queshi_df, buchong, on=[\"CaseName\"], how=\"left\")"
   ]
  },
  {
   "cell_type": "code",
   "execution_count": 30,
   "metadata": {},
   "outputs": [
    {
     "data": {
      "text/html": [
       "<div>\n",
       "<style scoped>\n",
       "    .dataframe tbody tr th:only-of-type {\n",
       "        vertical-align: middle;\n",
       "    }\n",
       "\n",
       "    .dataframe tbody tr th {\n",
       "        vertical-align: top;\n",
       "    }\n",
       "\n",
       "    .dataframe thead th {\n",
       "        text-align: right;\n",
       "    }\n",
       "</style>\n",
       "<table border=\"1\" class=\"dataframe\">\n",
       "  <thead>\n",
       "    <tr style=\"text-align: right;\">\n",
       "      <th></th>\n",
       "      <th>CaseName</th>\n",
       "      <th>LVSI</th>\n",
       "    </tr>\n",
       "  </thead>\n",
       "  <tbody>\n",
       "    <tr>\n",
       "      <th>0</th>\n",
       "      <td>5618570</td>\n",
       "      <td>0.0</td>\n",
       "    </tr>\n",
       "    <tr>\n",
       "      <th>1</th>\n",
       "      <td>5599967</td>\n",
       "      <td>0.0</td>\n",
       "    </tr>\n",
       "    <tr>\n",
       "      <th>2</th>\n",
       "      <td>5630892</td>\n",
       "      <td>0.0</td>\n",
       "    </tr>\n",
       "    <tr>\n",
       "      <th>3</th>\n",
       "      <td>5615159</td>\n",
       "      <td>1.0</td>\n",
       "    </tr>\n",
       "    <tr>\n",
       "      <th>4</th>\n",
       "      <td>5649501</td>\n",
       "      <td>0.0</td>\n",
       "    </tr>\n",
       "  </tbody>\n",
       "</table>\n",
       "</div>"
      ],
      "text/plain": [
       "  CaseName  LVSI\n",
       "0  5618570   0.0\n",
       "1  5599967   0.0\n",
       "2  5630892   0.0\n",
       "3  5615159   1.0\n",
       "4  5649501   0.0"
      ]
     },
     "execution_count": 30,
     "metadata": {},
     "output_type": "execute_result"
    }
   ],
   "source": [
    "info_df = pd.read_csv(root+\"/整理新表.csv\")\n",
    "info_df = info_df.dropna(axis=0,subset = [\"LVSI\"])[[\"CaseName\", \"LVSI\"]]\n",
    "info_df.head()"
   ]
  },
  {
   "cell_type": "code",
   "execution_count": 32,
   "metadata": {},
   "outputs": [],
   "source": [
    "lnm_df = pd.read_csv(\"/homes/syli/dataset/EC_all/LNM_model/liunei/T2/test_numeric_feature.csv\")\n",
    "df = pd.merge(info_df, lnm_df)\n",
    "\n",
    "df.to_csv(\"./atuo_radiomics/demo_test.csv\", index=False)\n"
   ]
  }
 ],
 "metadata": {
  "kernelspec": {
   "display_name": "base",
   "language": "python",
   "name": "python3"
  },
  "language_info": {
   "codemirror_mode": {
    "name": "ipython",
    "version": 3
   },
   "file_extension": ".py",
   "mimetype": "text/x-python",
   "name": "python",
   "nbconvert_exporter": "python",
   "pygments_lexer": "ipython3",
   "version": "3.8.8"
  },
  "orig_nbformat": 4
 },
 "nbformat": 4,
 "nbformat_minor": 2
}
