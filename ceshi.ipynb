{
 "cells": [
  {
   "cell_type": "code",
   "execution_count": 1,
   "metadata": {},
   "outputs": [],
   "source": [
    "import pandas as pd\n",
    "import joblib\n",
    "import numpy as np\n",
    "from sklearn.metrics import roc_auc_score\n",
    "from atuo_radiomics.DelongAUC import CalculateAUC\n",
    "\n",
    "model = joblib.load(\"/homes/syli/dataset/demo/liunei/T2/original+log-sigma/best_model/fSVM model.pickle\")\n",
    "test_df = pd.read_csv(\"/homes/syli/dataset/demo/liunei/T2/original+log-sigma/best_model/selected_test_data.csv\", index_col=0)"
   ]
  },
  {
   "cell_type": "code",
   "execution_count": 3,
   "metadata": {},
   "outputs": [
    {
     "data": {
      "text/plain": [
       "'/homes/syli/'"
      ]
     },
     "execution_count": 3,
     "metadata": {},
     "output_type": "execute_result"
    }
   ],
   "source": [
    "import os\n",
    "a = os.path.join(\"/homes/syli\", \"\")\n",
    "a"
   ]
  },
  {
   "cell_type": "code",
   "execution_count": 3,
   "metadata": {},
   "outputs": [
    {
     "name": "stdout",
     "output_type": "stream",
     "text": [
      "(0.7178477690288715, 0.049139131467894365, array([0.62153684, 0.8141587 ]))\n"
     ]
    }
   ],
   "source": [
    "auc1 = CalculateAUC(test_df[\"LVSI\"].values, pred_np)\n",
    "print(auc1)"
   ]
  }
 ],
 "metadata": {
  "kernelspec": {
   "display_name": "base",
   "language": "python",
   "name": "python3"
  },
  "language_info": {
   "codemirror_mode": {
    "name": "ipython",
    "version": 3
   },
   "file_extension": ".py",
   "mimetype": "text/x-python",
   "name": "python",
   "nbconvert_exporter": "python",
   "pygments_lexer": "ipython3",
   "version": "3.8.8"
  },
  "orig_nbformat": 4
 },
 "nbformat": 4,
 "nbformat_minor": 2
}
