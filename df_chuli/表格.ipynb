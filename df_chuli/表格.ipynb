{
 "cells": [
  {
   "cell_type": "code",
   "execution_count": 28,
   "metadata": {},
   "outputs": [],
   "source": [
    "import pandas as pd\n",
    "import numpy  as np\n",
    "import os\n",
    "join = os.path.join"
   ]
  },
  {
   "cell_type": "code",
   "execution_count": 24,
   "metadata": {},
   "outputs": [
    {
     "name": "stdout",
     "output_type": "stream",
     "text": [
      "413 413\n"
     ]
    }
   ],
   "source": [
    "label_df = pd.read_csv(\"/homes/syli/dataset/EC_all/label_df.csv\")[[\"CaseName\", \"LVSI\", \"LNM\"]]\n",
    "info_df= pd.read_csv(\"/homes/syli/dataset/EC_all/clinical_data.csv\")[[\"CaseName\", \"sick_age\", \"height\", \"weight\", \"pathology_type\"]]\n",
    "\n",
    "df = pd.merge(label_df, info_df, on=\"CaseName\", validate=\"one_to_one\")\n",
    "print(len(label_df), len(df))\n",
    "df.to_csv(\"/homes/syli/dataset/LVSI_LNM/clinical_info.csv\", index=False)\n"
   ]
  },
  {
   "cell_type": "code",
   "execution_count": 36,
   "metadata": {},
   "outputs": [],
   "source": [
    "root = \"/homes/syli/dataset/LVSI_LNM\"\n",
    "feature_root = \"/homes/syli/dataset/EC_all/LNM_model/liuzhou_split\"\n",
    "for split in  [\"train\", \"test\"]:   \n",
    "    for modal in [\"DWI\", \"T1CE\", \"T2\"]:\n",
    "        for i in range(1, 11):\n",
    "            feature_df1 = pd.read_csv(join(feature_root, modal, f\"dilation_{i}\", \"train_numeric_feature.csv\"))\n",
    "            feature_df2 = pd.read_csv(join(feature_root, modal, f\"dilation_{i}\", \"test_numeric_feature.csv\"))\n",
    "            feature_df = pd.concat((feature_df1, feature_df2))\n",
    "            del feature_df[\"label\"]\n",
    "            for task in [\"LNM\", \"LVSI\", \"multi_task\"]:\n",
    "                store_path = join(root, task, \"liuzhou\", modal, f\"dilation_{i}\")\n",
    "                os.makedirs(store_path, exist_ok=True)\n",
    "                label_df = pd.read_csv(join(root, f\"{split}_clinical_feature.csv\"))[[\"CaseName\", \"LVSI\", \"LNM\"]]\n",
    "                if task == \"multi_task\":\n",
    "                    continue\n",
    "                    label_df.rename(columns={\"LVSI\":\"label\"}, inplace=True)\n",
    "                else:\n",
    "                    label_df = label_df[[\"CaseName\", task]]\n",
    "                    label_df.rename(columns={task:\"label\"}, inplace=True)\n",
    "                new_df = pd.merge(label_df, feature_df, on=\"CaseName\", validate=\"one_to_one\")\n",
    "                new_df.to_csv(join(store_path, f\"{split}_numeric_feature.csv\"), index=False)"
   ]
  },
  {
   "cell_type": "code",
   "execution_count": 35,
   "metadata": {},
   "outputs": [],
   "source": [
    "feature_root = \"/homes/syli/dataset/EC_all/LNM_model/liunei\"\n",
    "for split in  [\"train\", \"test\"]:   \n",
    "    for modal in [\"DWI\", \"T1CE\", \"T2\"]:\n",
    "        feature_df1 = pd.read_csv(join(feature_root, modal, \"train_numeric_feature.csv\"))\n",
    "        feature_df2 = pd.read_csv(join(feature_root, modal, \"test_numeric_feature.csv\"))\n",
    "        feature_df = pd.concat((feature_df1, feature_df2))\n",
    "        del feature_df[\"label\"]\n",
    "        for task in [\"LNM\", \"LVSI\", \"multi_task\"]:\n",
    "            store_path = join(root, task, \"liunei\", modal)\n",
    "            os.makedirs(store_path, exist_ok=True)\n",
    "            label_df = pd.read_csv(join(root, f\"{split}_clinical_feature.csv\"))[[\"CaseName\", \"LVSI\", \"LNM\"]]\n",
    "            if task == \"multi_task\":\n",
    "                label_df.rename(columns={\"LVSI\":\"label\"}, inplace=True)\n",
    "            else:\n",
    "                label_df = label_df[[\"CaseName\", task]]\n",
    "                label_df.rename(columns={task:\"label\"}, inplace=True)\n",
    "            new_df = pd.merge(label_df, feature_df, on=\"CaseName\", validate=\"one_to_one\")\n",
    "            new_df.to_csv(join(store_path, f\"{split}_numeric_feature.csv\"), index=False)"
   ]
  },
  {
   "cell_type": "code",
   "execution_count": null,
   "metadata": {},
   "outputs": [],
   "source": [
    "for split in  [\"train\", \"test\"]:   \n",
    "    for modal in [\"DWI\", \"T1CE\", \"T2\"]:\n",
    "        for i in range(1, 11):"
   ]
  }
 ],
 "metadata": {
  "kernelspec": {
   "display_name": "base",
   "language": "python",
   "name": "python3"
  },
  "language_info": {
   "codemirror_mode": {
    "name": "ipython",
    "version": 3
   },
   "file_extension": ".py",
   "mimetype": "text/x-python",
   "name": "python",
   "nbconvert_exporter": "python",
   "pygments_lexer": "ipython3",
   "version": "3.8.8"
  },
  "orig_nbformat": 4
 },
 "nbformat": 4,
 "nbformat_minor": 2
}
